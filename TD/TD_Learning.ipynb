{
 "cells": [
  {
   "cell_type": "code",
   "execution_count": 42,
   "metadata": {},
   "outputs": [],
   "source": [
    "import numpy as np\n",
    "from matplotlib import pyplot as plt"
   ]
  },
  {
   "cell_type": "code",
   "execution_count": 43,
   "metadata": {},
   "outputs": [],
   "source": [
    "class Agent:\n",
    "    def choose_action(self,state):\n",
    "        action = 0\n",
    "        if np.random.uniform(0,1) < self.epsilon:\n",
    "            action = self.action_space.sample()\n",
    "        else:\n",
    "            action = np.argmax(self.Q[state,:])\n",
    "        return action"
   ]
  },
  {
   "cell_type": "code",
   "execution_count": 44,
   "metadata": {},
   "outputs": [],
   "source": [
    "class SarsaAgent(Agent):\n",
    "    def __init__(self,epsilon,alpha,gamma,num_states,num_actions,action_space):\n",
    "        \n",
    "        self.epsilon = epsilon\n",
    "        self.alpha = alpha\n",
    "        self.gamma = gamma\n",
    "        self.num_states = num_states\n",
    "        self.num_actions = num_actions\n",
    "        self.action_space = action_space\n",
    "        \n",
    "        self.Q = np.zeros((num_states,num_actions))\n",
    "        self.action_space = action_space\n",
    "        \n",
    "    def update(self,prev_state,prev_action,reward,next_state,next_action):\n",
    "        prediction = self.Q[prev_state,prev_action]\n",
    "        target = reward + self.gamma * self.Q[next_state,next_action]\n",
    "        error = target - prediction\n",
    "        self.Q[prev_state,prev_action] += alpha * error\n",
    "    "
   ]
  },
  {
   "cell_type": "code",
   "execution_count": 55,
   "metadata": {},
   "outputs": [],
   "source": [
    "class QLearningAgent(Agent):\n",
    "    def __init__(self,epsilon,alpha,gamma,num_states,num_actions,action_space):\n",
    "        \n",
    "        self.epsilon = epsilon\n",
    "        self.alpha = alpha\n",
    "        self.gamma = gamma\n",
    "        self.num_states = num_states\n",
    "        self.num_actions = num_actions\n",
    "        self.action_space = action_space\n",
    "        \n",
    "        self.Q = np.zeros((num_states,num_actions))\n",
    "        self.action_space = action_space\n",
    "        \n",
    "    def update(self,prev_state,prev_action,reward,next_state,next_action):\n",
    "        prediction = self.Q[prev_state,prev_action]\n",
    "        target = reward + self.gamma * np.max(self.Q[next_state,:])\n",
    "        error = target - prediction\n",
    "        self.Q[prev_state,prev_action] += alpha * error"
   ]
  },
  {
   "cell_type": "code",
   "execution_count": 62,
   "metadata": {},
   "outputs": [],
   "source": [
    "class QLearningAgent(Agent):\n",
    "    def __init__(self,epsilon,alpha,gamma,num_states,num_actions,action_space):\n",
    "        \n",
    "        self.epsilon = epsilon\n",
    "        self.alpha = alpha\n",
    "        self.gamma = gamma\n",
    "        self.num_states = num_states\n",
    "        self.num_actions = num_actions\n",
    "        self.action_space = action_space\n",
    "        \n",
    "        self.Q = np.zeros((num_states,num_actions))\n",
    "        self.action_space = action_space\n",
    "        \n",
    "    def update(self,prev_state,prev_action,reward,next_state,next_action):\n",
    "        prediction = self.Q[prev_state,prev_action]\n",
    "        target = reward + self.gamma * np.max(self.Q[next_state,:])\n",
    "        error = target - prediction\n",
    "        self.Q[prev_state,prev_action] += alpha * error"
   ]
  },
  {
   "cell_type": "code",
   "execution_count": 67,
   "metadata": {},
   "outputs": [
    {
     "name": "stdout",
     "output_type": "stream",
     "text": [
      "SARSA Average Sum of Reward: -33.252\n",
      "Q-Learning Average Sum of Return: -53.164\n"
     ]
    }
   ],
   "source": [
    "import gym\n",
    "\n",
    "env = gym.make('CliffWalking-v0') \n",
    "\n",
    "epsilon = .1\n",
    "total_episodes = 500\n",
    "max_steps = 500\n",
    "alpha = .5\n",
    "gamma = 1\n",
    "\n",
    "episodeReward = 0\n",
    "totalReward = {\n",
    "    'SarsaAgent':[],\n",
    "    'QLearningAgent':[],\n",
    "    'ExpectedSarsa': []\n",
    "}\n",
    "\n",
    "sarsaAgent = SarsaAgent(epsilon,alpha,gamma,env.observation_space.n,env.action_space.n,env.action_space)\n",
    "qAgent = QLearningAgent(epsilon,alpha,gamma,env.observation_space.n,env.action_space.n,env.action_space)\n",
    "\n",
    "agents = [sarsaAgent,qAgent]\n",
    "\n",
    "for agent in agents:\n",
    "    for _ in range(total_episodes):\n",
    "        t = 0\n",
    "        state = env.reset()\n",
    "        action = agent.choose_action(state)\n",
    "        episode_reward = 0\n",
    "        while t < max_steps:\n",
    "            next_state,reward,done,info = env.step(action)            \n",
    "            next_action = agent.choose_action(next_state)\n",
    "            \n",
    "            agent.update(state,action,reward,next_state,next_action)\n",
    "            \n",
    "            state = next_state\n",
    "            action = next_action\n",
    "            \n",
    "            t += 1\n",
    "            episode_reward += reward\n",
    "            \n",
    "            if done:\n",
    "                break\n",
    "        totalReward[type(agent).__name__].append(episode_reward)\n",
    "env.close()\n",
    "\n",
    "            \n",
    "           \n",
    "meanReturn = {\n",
    "    'sarsaAgent': np.mean(totalReward['SarsaAgent']),\n",
    "    'qLearningAgent': np.mean(totalReward['QLearningAgent']),\n",
    "}\n",
    "print(f\"SARSA Average Sum of Reward: {meanReturn['sarsaAgent']}\") \n",
    "print(f\"Q-Learning Average Sum of Return: {meanReturn['qLearningAgent']}\") \n",
    "            \n",
    "            "
   ]
  },
  {
   "cell_type": "code",
   "execution_count": null,
   "metadata": {},
   "outputs": [],
   "source": []
  },
  {
   "cell_type": "code",
   "execution_count": null,
   "metadata": {},
   "outputs": [],
   "source": []
  }
 ],
 "metadata": {
  "kernelspec": {
   "display_name": "Ml env",
   "language": "python",
   "name": "ml"
  },
  "language_info": {
   "codemirror_mode": {
    "name": "ipython",
    "version": 3
   },
   "file_extension": ".py",
   "mimetype": "text/x-python",
   "name": "python",
   "nbconvert_exporter": "python",
   "pygments_lexer": "ipython3",
   "version": "3.6.12"
  }
 },
 "nbformat": 4,
 "nbformat_minor": 4
}
