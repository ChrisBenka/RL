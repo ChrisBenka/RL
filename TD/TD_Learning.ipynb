{
 "cells": [
  {
   "cell_type": "code",
   "execution_count": 113,
   "metadata": {},
   "outputs": [],
   "source": [
    "import numpy as np\n",
    "from matplotlib import pyplot as plt"
   ]
  },
  {
   "cell_type": "code",
   "execution_count": 114,
   "metadata": {},
   "outputs": [],
   "source": [
    "class Agent:\n",
    "    def choose_action(self,state):\n",
    "        action = 0\n",
    "        if np.random.uniform(0,1) < self.epsilon:\n",
    "            action = self.action_space.sample()\n",
    "        else:\n",
    "            action = np.argmax(self.Q[state,:])\n",
    "        return action"
   ]
  },
  {
   "cell_type": "code",
   "execution_count": 115,
   "metadata": {},
   "outputs": [],
   "source": [
    "class SarsaAgent(Agent):\n",
    "    def __init__(self,epsilon,alpha,gamma,num_states,num_actions,action_space):\n",
    "        \n",
    "        self.epsilon = epsilon\n",
    "        self.alpha = alpha\n",
    "        self.gamma = gamma\n",
    "        self.num_states = num_states\n",
    "        self.num_actions = num_actions\n",
    "        self.action_space = action_space\n",
    "        \n",
    "        self.Q = np.zeros((num_states,num_actions))\n",
    "        self.action_space = action_space\n",
    "        \n",
    "    def update(self,prev_state,prev_action,reward,next_state,next_action):\n",
    "        prediction = self.Q[prev_state,prev_action]\n",
    "        target = reward + self.gamma * self.Q[next_state,next_action]\n",
    "        error = target - prediction\n",
    "        self.Q[prev_state,prev_action] += self.alpha * error\n",
    "    "
   ]
  },
  {
   "cell_type": "code",
   "execution_count": 116,
   "metadata": {},
   "outputs": [],
   "source": [
    "class QLearningAgent(Agent):\n",
    "    def __init__(self,epsilon,alpha,gamma,num_states,num_actions,action_space):\n",
    "        \n",
    "        self.epsilon = epsilon\n",
    "        self.alpha = alpha\n",
    "        self.gamma = gamma\n",
    "        self.num_states = num_states\n",
    "        self.num_actions = num_actions\n",
    "        self.action_space = action_space\n",
    "        \n",
    "        self.Q = np.zeros((num_states,num_actions))\n",
    "        self.action_space = action_space\n",
    "        \n",
    "    def update(self,prev_state,prev_action,reward,next_state,next_action):\n",
    "        prediction = self.Q[prev_state,prev_action]\n",
    "        target = reward + self.gamma * np.max(self.Q[next_state,:])\n",
    "        error = target - prediction\n",
    "        self.Q[prev_state,prev_action] += self.alpha * error"
   ]
  },
  {
   "cell_type": "code",
   "execution_count": 117,
   "metadata": {},
   "outputs": [],
   "source": [
    "class QLearningAgent(Agent):\n",
    "    def __init__(self,epsilon,alpha,gamma,num_states,num_actions,action_space):\n",
    "        \n",
    "        self.epsilon = epsilon\n",
    "        self.alpha = alpha\n",
    "        self.gamma = gamma\n",
    "        self.num_states = num_states\n",
    "        self.num_actions = num_actions\n",
    "        self.action_space = action_space\n",
    "        \n",
    "        self.Q = np.zeros((num_states,num_actions))\n",
    "        self.action_space = action_space\n",
    "        \n",
    "    def update(self,prev_state,prev_action,reward,next_state,next_action):\n",
    "        prediction = self.Q[prev_state,prev_action]\n",
    "        target = reward + self.gamma * np.max(self.Q[next_state,:])\n",
    "        error = target - prediction\n",
    "        self.Q[prev_state,prev_action] += self.alpha * error"
   ]
  },
  {
   "cell_type": "code",
   "execution_count": 118,
   "metadata": {},
   "outputs": [],
   "source": [
    "class ExpectedSarsa(Agent):\n",
    "    def __init__(self,epsilon,alpha,gamma,num_states,num_actions,action_space):\n",
    "        \n",
    "        self.epsilon = epsilon\n",
    "        self.alpha = alpha\n",
    "        self.gamma = gamma\n",
    "        self.num_states = num_states\n",
    "        self.num_actions = num_actions\n",
    "        self.action_space = action_space\n",
    "        \n",
    "        self.Q = np.zeros((num_states,num_actions))\n",
    "        self.action_space = action_space\n",
    "        \n",
    "    def update(self,prev_state,prev_action,reward,next_state,next_action):\n",
    "        prediction = self.Q[prev_state,prev_action]\n",
    "        expected_q = 0\n",
    "        for i in range(self.num_actions):\n",
    "            expected_q += self.Q[next_state][i] * (1/self.num_actions)\n",
    "        target = reward + self.gamma * expected_q    \n",
    "        \n",
    "        error = target - prediction\n",
    "        self.Q[prev_state,prev_action] += self.alpha * error"
   ]
  },
  {
   "cell_type": "code",
   "execution_count": 121,
   "metadata": {},
   "outputs": [],
   "source": [
    "import gym\n",
    "\n",
    "env = gym.make('CliffWalking-v0') \n",
    "\n",
    "epsilon = .1\n",
    "total_episodes = 1000\n",
    "max_steps = 500\n",
    "gamma = 1\n",
    "\n",
    "sarsaAgent = SarsaAgent(epsilon,alpha,gamma,env.observation_space.n,env.action_space.n,env.action_space)\n",
    "qAgent = QLearningAgent(epsilon,alpha,gamma,env.observation_space.n,env.action_space.n,env.action_space)\n",
    "expectedSara = ExpectedSarsa(epsilon,alpha,gamma,env.observation_space.n,env.action_space.n,env.action_space)\n",
    "agents = [sarsaAgent,qAgent,expectedSarsa]\n",
    "\n",
    "alphas = [.25,.5,.75,1]\n",
    "\n",
    "results = {\n",
    "    'SarsaAgent': [],\n",
    "    'QLearningAgent': [],\n",
    "    'ExpectedSarsa': []\n",
    "}\n",
    "\n",
    "for alpha in alphas: \n",
    "    episodeReward = 0\n",
    "    totalReward = {\n",
    "        'SarsaAgent':[],\n",
    "        'QLearningAgent':[],\n",
    "        'ExpectedSarsa': []\n",
    "    }\n",
    "    for agent in agents:\n",
    "        for _ in range(total_episodes):\n",
    "            t = 0\n",
    "            state = env.reset()\n",
    "            action = agent.choose_action(state)\n",
    "            episode_reward = 0\n",
    "            while t < max_steps:\n",
    "                next_state,reward,done,info = env.step(action)     \n",
    "                next_action = agent.choose_action(next_state)\n",
    "\n",
    "                agent.update(state,action,reward,next_state,next_action)\n",
    "\n",
    "                state = next_state\n",
    "                action = next_action\n",
    "\n",
    "                t += 1\n",
    "                episode_reward += reward\n",
    "\n",
    "                if done:\n",
    "                    break\n",
    "            totalReward[type(agent).__name__].append(episode_reward)\n",
    "    \n",
    "    results['SarsaAgent'].append(np.mean(totalReward['SarsaAgent']))\n",
    "    results['QLearningAgent'].append(np.mean(totalReward['QLearningAgent']))\n",
    "    results['ExpectedSarsa'].append(np.mean(totalReward['ExpectedSarsa']))\n",
    "    \n",
    "env.close() "
   ]
  },
  {
   "cell_type": "code",
   "execution_count": 122,
   "metadata": {},
   "outputs": [
    {
     "data": {
      "image/png": "[encoded data removed]",
      "text/plain": [
       "<Figure size 432x288 with 1 Axes>"
      ]
     },
     "metadata": {
      "needs_background": "light"
     },
     "output_type": "display_data"
    }
   ],
   "source": [
    "for agent in agents:\n",
    "    plt.plot(alphas,results[type(agent).__name__],label=type(agent).__name__)\n",
    "plt.xlabel(\"alphas\")\n",
    "plt.ylabel(\"average returns\")\n",
    "plt.title(\"Average returns over 1000 episodes for SARSA,QLearning,Expected Sarsa\")\n",
    "plt.legend()\n",
    "plt.show()"
   ]
  },
  {
   "cell_type": "markdown",
   "metadata": {},
   "source": [
    "- Sarsa can only perform well for small alphas\n",
    "- Expected Sarsa can safely set alpha = 1 without suffering any degredation of performance\n"
   ]
  },
  {
   "cell_type": "code",
   "execution_count": null,
   "metadata": {},
   "outputs": [],
   "source": []
  }
 ],
 "metadata": {
  "kernelspec": {
   "display_name": "Ml env",
   "language": "python",
   "name": "ml"
  },
  "language_info": {
   "codemirror_mode": {
    "name": "ipython",
    "version": 3
   },
   "file_extension": ".py",
   "mimetype": "text/x-python",
   "name": "python",
   "nbconvert_exporter": "python",
   "pygments_lexer": "ipython3",
   "version": "3.6.12"
  }
 },
 "nbformat": 4,
 "nbformat_minor": 4
}
