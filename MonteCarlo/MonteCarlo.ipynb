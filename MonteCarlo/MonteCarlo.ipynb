{
 "cells": [
  {
   "cell_type": "code",
   "execution_count": 16,
   "metadata": {},
   "outputs": [],
   "source": [
    "import gym\n",
    "from gym import wrappers\n",
    "import numpy as np\n",
    "\n",
    "env = gym.make(\"FrozenLake-v0\")\n",
    "env = wrappers.Monitor(env, \"./results\", force=True)"
   ]
  },
  {
   "cell_type": "code",
   "execution_count": 17,
   "metadata": {},
   "outputs": [],
   "source": [
    "import gym\n",
    "from gym import wrappers\n",
    "import numpy as np\n",
    "\n",
    "env = gym.make(\"FrozenLake-v0\")\n",
    "env = wrappers.Monitor(env, \"./results\", force=True)"
   ]
  },
  {
   "cell_type": "code",
   "execution_count": 43,
   "metadata": {},
   "outputs": [
    {
     "name": "stdout",
     "output_type": "stream",
     "text": [
      "completed first episode at 285\n",
      "episode: 500\n",
      "completed episodes 2\n",
      "As a percentage 0.3861003861003861\n",
      "episode: 1000\n",
      "episode: 1500\n",
      "completed episodes 3\n",
      "As a percentage 0.19404915912031048\n",
      "episode: 2000\n",
      "episode: 2500\n",
      "completed episodes 4\n",
      "As a percentage 0.13845621322256838\n",
      "episode: 3000\n",
      "completed episodes 5\n",
      "As a percentage 0.1440922190201729\n",
      "episode: 3500\n",
      "completed episodes 6\n",
      "As a percentage 0.16565433462175594\n",
      "episode: 4000\n"
     ]
    },
    {
     "ename": "KeyboardInterrupt",
     "evalue": "",
     "output_type": "error",
     "traceback": [
      "\u001b[0;31m---------------------------------------------------------------------------\u001b[0m",
      "\u001b[0;31mKeyboardInterrupt\u001b[0m                         Traceback (most recent call last)",
      "\u001b[0;32m<ipython-input-43-6f32b0ab1645>\u001b[0m in \u001b[0;36m<module>\u001b[0;34m\u001b[0m\n\u001b[1;32m     47\u001b[0m             \u001b[0mprint\u001b[0m\u001b[0;34m(\u001b[0m\u001b[0;34m\"episode:\"\u001b[0m\u001b[0;34m,\u001b[0m\u001b[0mepisode\u001b[0m\u001b[0;34m)\u001b[0m\u001b[0;34m\u001b[0m\u001b[0;34m\u001b[0m\u001b[0m\n\u001b[1;32m     48\u001b[0m \u001b[0;34m\u001b[0m\u001b[0m\n\u001b[0;32m---> 49\u001b[0;31m \u001b[0mmonte_carlo_on_policy\u001b[0m\u001b[0;34m(\u001b[0m\u001b[0menv\u001b[0m\u001b[0;34m,\u001b[0m\u001b[0;36m100000\u001b[0m\u001b[0;34m,\u001b[0m\u001b[0;36m.3\u001b[0m\u001b[0;34m)\u001b[0m\u001b[0;34m\u001b[0m\u001b[0;34m\u001b[0m\u001b[0m\n\u001b[0m\u001b[1;32m     50\u001b[0m \u001b[0;34m\u001b[0m\u001b[0m\n\u001b[1;32m     51\u001b[0m \u001b[0;34m\u001b[0m\u001b[0m\n",
      "\u001b[0;32m<ipython-input-43-6f32b0ab1645>\u001b[0m in \u001b[0;36mmonte_carlo_on_policy\u001b[0;34m(env, num_episodes, epsilon, discount_factor, is_first_visit)\u001b[0m\n\u001b[1;32m     41\u001b[0m                     \u001b[0mQ\u001b[0m\u001b[0;34m[\u001b[0m\u001b[0mstate\u001b[0m\u001b[0;34m,\u001b[0m\u001b[0maction\u001b[0m\u001b[0;34m]\u001b[0m \u001b[0;34m+=\u001b[0m \u001b[0malpha\u001b[0m \u001b[0;34m*\u001b[0m \u001b[0;34m(\u001b[0m\u001b[0mresult_sum\u001b[0m \u001b[0;34m-\u001b[0m \u001b[0mQ\u001b[0m\u001b[0;34m[\u001b[0m\u001b[0mstate\u001b[0m\u001b[0;34m,\u001b[0m\u001b[0maction\u001b[0m\u001b[0;34m]\u001b[0m\u001b[0;34m)\u001b[0m\u001b[0;34m\u001b[0m\u001b[0;34m\u001b[0m\u001b[0m\n\u001b[1;32m     42\u001b[0m             \u001b[0;32melse\u001b[0m\u001b[0;34m:\u001b[0m\u001b[0;34m\u001b[0m\u001b[0;34m\u001b[0m\u001b[0m\n\u001b[0;32m---> 43\u001b[0;31m                 \u001b[0mk_s_a\u001b[0m\u001b[0;34m[\u001b[0m\u001b[0mstate\u001b[0m\u001b[0;34m,\u001b[0m\u001b[0maction\u001b[0m\u001b[0;34m]\u001b[0m \u001b[0;34m+=\u001b[0m \u001b[0;36m1\u001b[0m\u001b[0;34m\u001b[0m\u001b[0;34m\u001b[0m\u001b[0m\n\u001b[0m\u001b[1;32m     44\u001b[0m                 \u001b[0malpha\u001b[0m \u001b[0;34m=\u001b[0m \u001b[0;36m1\u001b[0m\u001b[0;34m/\u001b[0m\u001b[0mk_s_a\u001b[0m\u001b[0;34m[\u001b[0m\u001b[0mstate\u001b[0m\u001b[0;34m,\u001b[0m\u001b[0maction\u001b[0m\u001b[0;34m]\u001b[0m\u001b[0;34m\u001b[0m\u001b[0;34m\u001b[0m\u001b[0m\n\u001b[1;32m     45\u001b[0m                 \u001b[0mQ\u001b[0m\u001b[0;34m[\u001b[0m\u001b[0mstate\u001b[0m\u001b[0;34m,\u001b[0m\u001b[0maction\u001b[0m\u001b[0;34m]\u001b[0m \u001b[0;34m+=\u001b[0m \u001b[0malpha\u001b[0m \u001b[0;34m*\u001b[0m \u001b[0;34m(\u001b[0m\u001b[0mresult_sum\u001b[0m \u001b[0;34m-\u001b[0m \u001b[0mQ\u001b[0m\u001b[0;34m[\u001b[0m\u001b[0mstate\u001b[0m\u001b[0;34m,\u001b[0m\u001b[0maction\u001b[0m\u001b[0;34m]\u001b[0m\u001b[0;34m)\u001b[0m\u001b[0;34m\u001b[0m\u001b[0;34m\u001b[0m\u001b[0m\n",
      "\u001b[0;31mKeyboardInterrupt\u001b[0m: "
     ]
    }
   ],
   "source": [
    "Q = np.zeros([env.observation_space.n, env.action_space.n])\n",
    "n_s_a = np.zeros([env.observation_space.n, env.action_space.n])\n",
    "\n",
    "def monte_carlo_on_policy(env,num_episodes=1000000,epsilon=.3,discount_factor = 1.0,is_first_visit=False):\n",
    "    Q = np.zeros([env.observation_space.n,env.action_space.n])\n",
    "    k_s_a = np.zeros([env.observation_space.n,env.action_space.n])\n",
    "    \n",
    "    completed_episodes = 0    \n",
    "    seq = []\n",
    "    \n",
    "    for episode in range(1,num_episodes):\n",
    "        state = env.reset()\n",
    "        done = False\n",
    "        G = 0 \n",
    "        while not done:\n",
    "            if np.random.rand() < epsilon:\n",
    "                action = env.action_space.sample()\n",
    "            else: \n",
    "                action = np.argmax(Q[state])\n",
    "            next_state,reward,done,_ = env.step(action)\n",
    "            seq.append((state,action))\n",
    "            state = next_state\n",
    "            G = reward + (discount_factor * G)\n",
    "            if G == 1:\n",
    "                if completed_episodes == 0:\n",
    "                    print(\"completed first episode at\", episode)\n",
    "                    completed_episodes+=1\n",
    "                else:\n",
    "                    completed_episodes+=1\n",
    "                    print(\"completed episodes\",completed_episodes)\n",
    "                    print(\"As a percentage\",(completed_episodes/episode)*100)\n",
    "        for [state,action] in seq:\n",
    "            if is_first_visit:\n",
    "                visited_state_actions = set()\n",
    "                if (state,action) not in visited_state_actions:\n",
    "                    k_s_a[state,action] += 1\n",
    "                    alpha = 1/k_s_a[state,action]\n",
    "                    Q[state,action] += alpha * (result_sum - Q[state,action])\n",
    "            else:\n",
    "                k_s_a[state,action] += 1\n",
    "                alpha = 1/k_s_a[state,action]\n",
    "                Q[state,action] += alpha * (result_sum - Q[state,action])\n",
    "        if episode % 500 == 0 and episode is not 0:\n",
    "            print(\"episode:\",episode)\n",
    "\n",
    "monte_carlo_on_policy(env,100000,.3)"
   ]
  },
  {
   "cell_type": "code",
   "execution_count": null,
   "metadata": {},
   "outputs": [],
   "source": []
  },
  {
   "cell_type": "code",
   "execution_count": null,
   "metadata": {},
   "outputs": [],
   "source": []
  }
 ],
 "metadata": {
  "kernelspec": {
   "display_name": "Ml env",
   "language": "python",
   "name": "ml"
  },
  "language_info": {
   "codemirror_mode": {
    "name": "ipython",
    "version": 3
   },
   "file_extension": ".py",
   "mimetype": "text/x-python",
   "name": "python",
   "nbconvert_exporter": "python",
   "pygments_lexer": "ipython3",
   "version": "3.6.12"
  }
 },
 "nbformat": 4,
 "nbformat_minor": 4
}
