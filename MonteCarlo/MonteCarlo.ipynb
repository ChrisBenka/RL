{
 "cells": [
  {
   "cell_type": "code",
   "execution_count": null,
   "metadata": {},
   "outputs": [],
   "source": [
    "import gym\n",
    "from gym import wrappers\n",
    "import numpy as np"
   ]
  },
  {
   "cell_type": "code",
   "execution_count": null,
   "metadata": {},
   "outputs": [],
   "source": [
    "VISIT = 'FIRST'\n",
    "env = gym.make(\"FrozenLake-v0\")\n",
    "num_episodes = 1000000\n",
    "epsilon = .15"
   ]
  },
  {
   "cell_type": "code",
   "execution_count": null,
   "metadata": {},
   "outputs": [],
   "source": [
    "Q = np.zeros([env.observation_space.n,env.action_space.n])\n",
    "k_s_a = np.zeros([env.observation_space.n,env.action_space.n])\n",
    "avg_reward = 0\n",
    "\n",
    "for i in range(1,num_episodes):\n",
    "    state = env.reset()\n",
    "    done = False\n",
    "    G = 0.0\n",
    "    seq = []\n",
    "    while not done:\n",
    "        if np.random.rand() < epsilon:\n",
    "            action = env.action_space.sample()\n",
    "        else: \n",
    "            action = np.argmax(Q[state,:])\n",
    "        next_state,reward,done,_ = env.step(action)\n",
    "        seq.append((state,action))\n",
    "        G += reward\n",
    "        state = next_state\n",
    "    alpha = 1.0 / i\n",
    "    avg_reward += alpha * (G - avg_reward)\n",
    "    \n",
    "    if VISIT is 'EVERY':\n",
    "        for (state,action) in seq:\n",
    "            k_s_a[state,action] += 1.0\n",
    "            alpha = 1.0/ k_s_a[state,action]\n",
    "            Q[state,action] += alpha * (G - Q[state,action])\n",
    "    else:\n",
    "        visited_state_actions = set()\n",
    "        for (state,action) in seq:\n",
    "            if (state,action) not in visited_state_actions:\n",
    "                k_s_a[state,action] += 1.0\n",
    "                alpha = 1.0/ k_s_a[state,action]\n",
    "                Q[state,action] += alpha * (G - Q[state,action])\n",
    "\n",
    "    if i % 500 == 0 and i is not 0:\n",
    "        print(\"Average reward: \" + str(avg_reward))"
   ]
  },
  {
   "cell_type": "code",
   "execution_count": null,
   "metadata": {},
   "outputs": [],
   "source": []
  }
 ],
 "metadata": {
  "kernelspec": {
   "display_name": "Ml env",
   "language": "python",
   "name": "ml"
  },
  "language_info": {
   "codemirror_mode": {
    "name": "ipython",
    "version": 3
   },
   "file_extension": ".py",
   "mimetype": "text/x-python",
   "name": "python",
   "nbconvert_exporter": "python",
   "pygments_lexer": "ipython3",
   "version": "3.6.12"
  }
 },
 "nbformat": 4,
 "nbformat_minor": 4
}
